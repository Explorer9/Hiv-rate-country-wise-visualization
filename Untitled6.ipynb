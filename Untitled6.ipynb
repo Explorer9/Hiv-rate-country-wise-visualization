{
  "nbformat": 4,
  "nbformat_minor": 0,
  "metadata": {
    "colab": {
      "name": "Untitled6.ipynb",
      "provenance": [],
      "collapsed_sections": [],
      "authorship_tag": "ABX9TyMu1NoImyafKA9OnYaheLRX",
      "include_colab_link": true
    },
    "kernelspec": {
      "name": "python3",
      "display_name": "Python 3"
    }
  },
  "cells": [
    {
      "cell_type": "markdown",
      "metadata": {
        "id": "view-in-github",
        "colab_type": "text"
      },
      "source": [
        "<a href=\"https://colab.research.google.com/github/prabhu-chai/Hiv-rate-country-wise-visualization/blob/master/Untitled6.ipynb\" target=\"_parent\"><img src=\"https://colab.research.google.com/assets/colab-badge.svg\" alt=\"Open In Colab\"/></a>"
      ]
    },
    {
      "cell_type": "code",
      "metadata": {
        "id": "OmSh9eR5G2VO",
        "colab_type": "code",
        "colab": {}
      },
      "source": [
        "!pip install pycountry_convert\n",
        "import pandas as pd\n",
        "import datascience as ds\n",
        "import pycountry_convert as pc\n",
        "import matplotlib\n",
        "import matplotlib.pyplot as plt\n",
        "%matplotlib inline\n",
        "import numpy as np\n",
        "from datascience.predicates import are\n",
        "z=pd.read_excel(\"/indicator hiv estimated prevalence% 15-49.xlsx\")"
      ],
      "execution_count": 0,
      "outputs": []
    },
    {
      "cell_type": "code",
      "metadata": {
        "id": "OP4Cva77HQLk",
        "colab_type": "code",
        "colab": {}
      },
      "source": [
        "r=z.rename(columns={2000: \"2000\",2001: \"2001\",2002: \"2002\",2003: \"2003\",2004: \"2004\",2005: \"2005\",2006: \"2006\",2007: \"2007\",2008:\"2008\",2009: \"2009\",1979: \"1979\",1980: \"1980\",1981:\"1981\",1982:\"1982\",1983:\"1983\",1984:\"1984\",1985:\"1985\",1986:\"1986\",1987:\"1987\",1988:\"1988\",1989:\"1989\",1990:\"1990\",1991:\"1991\",1992:\"1992\",1993:\"1993\",1994:\"1994\",1995:\"1995\",1996:\"1996\",1997:\"1997\",1998:\"1998\",1999:\"1999\"})"
      ],
      "execution_count": 0,
      "outputs": []
    },
    {
      "cell_type": "code",
      "metadata": {
        "id": "Z9uFHj8rT33n",
        "colab_type": "code",
        "colab": {}
      },
      "source": [
        "y=pd.DataFrame(r)\n",
        "continent=[]\n",
        "continent_dict = {\"AS\":\"Asia\", \"EU\": \"Europe\", \"AF\": \"Africa\", \"OC\": \"Australia\", \"NA\": \"North America\", \"SA\": \"South America\"}\n"
      ],
      "execution_count": 0,
      "outputs": []
    },
    {
      "cell_type": "code",
      "metadata": {
        "id": "Qk7Qyw_KoIUz",
        "colab_type": "code",
        "colab": {}
      },
      "source": [
        "for i in y['Estimated HIV Prevalence% - (Ages 15-49)']:\n",
        "  try:\n",
        "    country_code = pc.country_name_to_country_alpha2(i, cn_name_format=\"default\")\n",
        "    continent_name = pc.country_alpha2_to_continent_code(country_code)\n",
        "    continent.append(continent_dict[continent_name])\n",
        "  except KeyError:\n",
        "    try:\n",
        "      z=i.split(\",\")\n",
        "      country_code = pc.country_name_to_country_alpha2(z[0], cn_name_format=\"default\")\n",
        "      continent_name = pc.country_alpha2_to_continent_code(country_code)\n",
        "      continent.append(continent_dict[continent_name])\n",
        "    except KeyError:\n",
        "      print(z[0]+\"not found\")\n",
        "      continent.append(\"not found\")\n",
        "\n",
        "  "
      ],
      "execution_count": 0,
      "outputs": []
    },
    {
      "cell_type": "code",
      "metadata": {
        "id": "rtqULwqfXJei",
        "colab_type": "code",
        "colab": {}
      },
      "source": [
        "y['continent']=continent"
      ],
      "execution_count": 0,
      "outputs": []
    },
    {
      "cell_type": "code",
      "metadata": {
        "id": "QrwqWqPiWEgA",
        "colab_type": "code",
        "colab": {}
      },
      "source": [
        "y.to_csv('/with_continents.csv')\n",
        "y\n"
      ],
      "execution_count": 0,
      "outputs": []
    },
    {
      "cell_type": "code",
      "metadata": {
        "id": "rzTitr7qWbr0",
        "colab_type": "code",
        "colab": {}
      },
      "source": [
        "p=y[['Estimated HIV Prevalence% - (Ages 15-49)','2000','2001','2002','2003','2004','2005','2006','2007','2008','2009','2010','2011','continent']]"
      ],
      "execution_count": 0,
      "outputs": []
    },
    {
      "cell_type": "code",
      "metadata": {
        "id": "UB0NEUIVYIqQ",
        "colab_type": "code",
        "colab": {}
      },
      "source": [
        "data_table = ds.Table.from_df(p)"
      ],
      "execution_count": 0,
      "outputs": []
    },
    {
      "cell_type": "code",
      "metadata": {
        "id": "gXYTVw9KYVLF",
        "colab_type": "code",
        "colab": {}
      },
      "source": [
        "p=p.fillna(0)\n",
        "p['average']=(p['2000']+p['2001']+p['2002']+p['2003']+p['2004']+p['2005']+p['2006']+p['2007']+p['2008']+p['2009']+p['2010']+p['2011'])/12\n",
        "p.sort_values(by=['average'],inplace=True,ascending=False)\n"
      ],
      "execution_count": 0,
      "outputs": []
    },
    {
      "cell_type": "code",
      "metadata": {
        "id": "llv9AvqoZEAy",
        "colab_type": "code",
        "colab": {}
      },
      "source": [
        "table = ds.Table.from_df(p)\n",
        "t = ds.Table.from_df(p)\n",
        "table.group(\"continent\",max)"
      ],
      "execution_count": 0,
      "outputs": []
    },
    {
      "cell_type": "code",
      "metadata": {
        "colab_type": "code",
        "id": "csBb1fQT2gAb",
        "colab": {}
      },
      "source": [
        "table.group(\"continent\",max).barh('continent','average max')"
      ],
      "execution_count": 0,
      "outputs": []
    },
    {
      "cell_type": "code",
      "metadata": {
        "id": "QY6yily7eyQ4",
        "colab_type": "code",
        "colab": {}
      },
      "source": [
        "table.group(\"continent\",min).barh('continent','average min')"
      ],
      "execution_count": 0,
      "outputs": []
    },
    {
      "cell_type": "code",
      "metadata": {
        "id": "DwsrruKGfuva",
        "colab_type": "code",
        "colab": {}
      },
      "source": [
        "table1=table.group(\"continent\",max)\n",
        "table2=table.group(\"continent\",min)\n"
      ],
      "execution_count": 0,
      "outputs": []
    },
    {
      "cell_type": "code",
      "metadata": {
        "id": "Un9q6RHHhd8P",
        "colab_type": "code",
        "outputId": "b11fcd10-6cc7-4952-b721-158bd083a507",
        "colab": {
          "base_uri": "https://localhost:8080/",
          "height": 265
        }
      },
      "source": [
        "table2[\"average max\"]=table1[\"average max\"]\n",
        "table1[\"average min\"]=table2[\"average min\"]\n",
        "table2.select('continent','average max','average min').barh('continent')"
      ],
      "execution_count": 0,
      "outputs": [
        {
          "output_type": "display_data",
          "data": {
            "image/png": "[encoded data removed]",
            "text/plain": [
              "<Figure size 432x288 with 1 Axes>"
            ]
          },
          "metadata": {
            "tags": []
          }
        }
      ]
    },
    {
      "cell_type": "code",
      "metadata": {
        "id": "3IPti1F9OHNJ",
        "colab_type": "code",
        "outputId": "516231bb-8862-4bcd-d8c2-630e5bf1e6ef",
        "colab": {
          "base_uri": "https://localhost:8080/",
          "height": 283
        }
      },
      "source": [
        "dftemp=table1.to_df()\n",
        "dftemp1=dftemp.sample(frac=0.70)\n",
        "plt.plot(dftemp1['Estimated HIV Prevalence% - (Ages 15-49) max'])\n",
        "plt.plot(dftemp1['average min'])\n",
        "plt.plot(dftemp1['average max'])"
      ],
      "execution_count": 0,
      "outputs": [
        {
          "output_type": "execute_result",
          "data": {
            "text/plain": [
              "[<matplotlib.lines.Line2D at 0x7f916233dd30>]"
            ]
          },
          "metadata": {
            "tags": []
          },
          "execution_count": 171
        },
        {
          "output_type": "display_data",
          "data": {
            "image/png": "[encoded data removed]",
            "text/plain": [
              "<Figure size 432x288 with 1 Axes>"
            ]
          },
          "metadata": {
            "tags": []
          }
        }
      ]
    },
    {
      "cell_type": "code",
      "metadata": {
        "colab_type": "code",
        "id": "Vl40bCQ7Uy4S",
        "colab": {}
      },
      "source": [
        ""
      ],
      "execution_count": 0,
      "outputs": []
    },
    {
      "cell_type": "code",
      "metadata": {
        "id": "6MIjlUc63ENX",
        "colab_type": "code",
        "colab": {}
      },
      "source": [
        "t.sort(\"Estimated HIV Prevalence% - (Ages 15-49)\")"
      ],
      "execution_count": 0,
      "outputs": []
    },
    {
      "cell_type": "code",
      "metadata": {
        "id": "WdKWjsXtiuZn",
        "colab_type": "code",
        "colab": {}
      },
      "source": [
        "table3=table.group(\"Estimated HIV Prevalence% - (Ages 15-49)\",min)\n",
        "table4=table.group(\"Estimated HIV Prevalence% - (Ages 15-49)\",max)\n",
        "table3"
      ],
      "execution_count": 0,
      "outputs": []
    },
    {
      "cell_type": "code",
      "metadata": {
        "id": "2sSs6xzinB2Y",
        "colab_type": "code",
        "colab": {}
      },
      "source": [
        "y=y.fillna(0)\n",
        "full_table=ds.Table.from_df(y)\n",
        "full_table"
      ],
      "execution_count": 0,
      "outputs": []
    },
    {
      "cell_type": "code",
      "metadata": {
        "id": "p5uuJbqxlxTL",
        "colab_type": "code",
        "colab": {}
      },
      "source": [
        "grouped_by_countries=full_table.group(\"continent\",sum)"
      ],
      "execution_count": 0,
      "outputs": []
    },
    {
      "cell_type": "code",
      "metadata": {
        "colab_type": "code",
        "id": "GQymfABL_8Yv",
        "colab": {}
      },
      "source": [
        "x=grouped_by_countries.to_df()\n",
        "temp1=x.transpose()\n",
        "new_header = temp1.iloc[0] #grab the first row for the header\n",
        "temp1 = temp1[1:] #take the data less the header row\n",
        "temp1.columns = new_header #set the header row as the df header\n",
        "temp2=temp1.drop('Estimated HIV Prevalence% - (Ages 15-49) sum')\n",
        "temp2['Africa']=temp2['Africa']/count[0]\n",
        "temp2['Asia']=temp2['Asia']/count[1]\n",
        "temp2['Australia']=temp2['Australia']/count[2]\n",
        "temp2['Europe']=temp2['Europe']/count[3]\n",
        "temp2['North America']=temp2['North America']/count[4]\n",
        "temp2['South America']=temp2['South America']/count[5]\n",
        "temp2['not found']=temp2['not found']/count[6]\n",
        "temp2=temp2.drop('number of countries')\n",
        "temp2.plot.line()\n",
        "temp2"
      ],
      "execution_count": 0,
      "outputs": []
    },
    {
      "cell_type": "code",
      "metadata": {
        "id": "GkjkHJ_M7k1e",
        "colab_type": "code",
        "colab": {}
      },
      "source": [
        "\n",
        "temp2['Africa'].plot.line()\n",
        "plt.figure()\n",
        "temp2['Asia'].plot.line()\n",
        "plt.figure()\n",
        "temp2['Australia'].plot.line()\n",
        "plt.figure()\n",
        "temp2['Europe'].plot.line()\n",
        "plt.figure()\n",
        "temp2['North America'].plot.line()\n",
        "plt.figure()\n",
        "temp2['South America'].plot.line()\n",
        "plt.figure()\n",
        "temp2['not found'].plot.line()\n"
      ],
      "execution_count": 0,
      "outputs": []
    },
    {
      "cell_type": "code",
      "metadata": {
        "id": "j7pvMKkKsYy9",
        "colab_type": "code",
        "outputId": "9665bc60-7689-4b7c-b6f5-4b79a95ef478",
        "colab": {
          "base_uri": "https://localhost:8080/",
          "height": 1000
        }
      },
      "source": [
        "africa_average=y[y.continent=='Africa'].mean(axis=0,skipna=0)\n",
        "africa=y[y.continent=='Africa']\n",
        "africa['x']=\"1.647636\"\n",
        "africa['y']=\"4.28\"\n",
        "asia_average=y[y.continent=='Asia'].mean(axis=0,skipna=0)\n",
        "asia=y[y.continent=='Asia']\n",
        "asia['x']=\"0.072\"\n",
        "asia['y']=\"0.136\"\n",
        "europe_average=y[y.continent=='Europe'].mean(axis=0,skipna=0)\n",
        "europe=y[y.continent=='Europe']\n",
        "europe['x']=\"0.07208\"\n",
        "europe['y']=\"0.2079\"\n",
        "Australia=y[y.continent=='Australia']\n",
        "Australia_average=y[y.continent=='Australia'].mean(axis=0,skipna=0)\n",
        "Australia['x']=\"0.0145\"\n",
        "Australia['y']=\"0.0481\"\n",
        "North_America=y[y.continent=='North America']\n",
        "North_America_average=y[y.continent=='North America'].mean(axis=0,skipna=0)\n",
        "North_America['x']=\"0.2852\"\n",
        "North_America['y']=\"0.418\"\n",
        "South_America=y[y.continent=='South America']\n",
        "South_America_average=y[y.continent=='South America'].mean(axis=0,skipna=0)\n",
        "South_America['x']=\"0.3746\"\n",
        "South_America['y']=\"0.492\"\n",
        "Not_found=y[y.continent=='not found']\n",
        "Not_found_average=y[y.continent=='not found'].mean(axis=0,skipna=0)\n",
        "Not_found['x']=\"0.0502\"\n",
        "Not_found['y']=\"0.0714\"\n",
        "\n",
        "\n",
        "\n",
        "\n",
        "\n",
        "\n"
      ],
      "execution_count": 0,
      "outputs": [
        {
          "output_type": "stream",
          "text": [
            "/usr/local/lib/python3.6/dist-packages/ipykernel_launcher.py:3: SettingWithCopyWarning: \n",
            "A value is trying to be set on a copy of a slice from a DataFrame.\n",
            "Try using .loc[row_indexer,col_indexer] = value instead\n",
            "\n",
            "See the caveats in the documentation: http://pandas.pydata.org/pandas-docs/stable/user_guide/indexing.html#returning-a-view-versus-a-copy\n",
            "  This is separate from the ipykernel package so we can avoid doing imports until\n",
            "/usr/local/lib/python3.6/dist-packages/ipykernel_launcher.py:4: SettingWithCopyWarning: \n",
            "A value is trying to be set on a copy of a slice from a DataFrame.\n",
            "Try using .loc[row_indexer,col_indexer] = value instead\n",
            "\n",
            "See the caveats in the documentation: http://pandas.pydata.org/pandas-docs/stable/user_guide/indexing.html#returning-a-view-versus-a-copy\n",
            "  after removing the cwd from sys.path.\n",
            "/usr/local/lib/python3.6/dist-packages/ipykernel_launcher.py:7: SettingWithCopyWarning: \n",
            "A value is trying to be set on a copy of a slice from a DataFrame.\n",
            "Try using .loc[row_indexer,col_indexer] = value instead\n",
            "\n",
            "See the caveats in the documentation: http://pandas.pydata.org/pandas-docs/stable/user_guide/indexing.html#returning-a-view-versus-a-copy\n",
            "  import sys\n",
            "/usr/local/lib/python3.6/dist-packages/ipykernel_launcher.py:8: SettingWithCopyWarning: \n",
            "A value is trying to be set on a copy of a slice from a DataFrame.\n",
            "Try using .loc[row_indexer,col_indexer] = value instead\n",
            "\n",
            "See the caveats in the documentation: http://pandas.pydata.org/pandas-docs/stable/user_guide/indexing.html#returning-a-view-versus-a-copy\n",
            "  \n",
            "/usr/local/lib/python3.6/dist-packages/ipykernel_launcher.py:11: SettingWithCopyWarning: \n",
            "A value is trying to be set on a copy of a slice from a DataFrame.\n",
            "Try using .loc[row_indexer,col_indexer] = value instead\n",
            "\n",
            "See the caveats in the documentation: http://pandas.pydata.org/pandas-docs/stable/user_guide/indexing.html#returning-a-view-versus-a-copy\n",
            "  # This is added back by InteractiveShellApp.init_path()\n",
            "/usr/local/lib/python3.6/dist-packages/ipykernel_launcher.py:12: SettingWithCopyWarning: \n",
            "A value is trying to be set on a copy of a slice from a DataFrame.\n",
            "Try using .loc[row_indexer,col_indexer] = value instead\n",
            "\n",
            "See the caveats in the documentation: http://pandas.pydata.org/pandas-docs/stable/user_guide/indexing.html#returning-a-view-versus-a-copy\n",
            "  if sys.path[0] == '':\n",
            "/usr/local/lib/python3.6/dist-packages/ipykernel_launcher.py:15: SettingWithCopyWarning: \n",
            "A value is trying to be set on a copy of a slice from a DataFrame.\n",
            "Try using .loc[row_indexer,col_indexer] = value instead\n",
            "\n",
            "See the caveats in the documentation: http://pandas.pydata.org/pandas-docs/stable/user_guide/indexing.html#returning-a-view-versus-a-copy\n",
            "  from ipykernel import kernelapp as app\n",
            "/usr/local/lib/python3.6/dist-packages/ipykernel_launcher.py:16: SettingWithCopyWarning: \n",
            "A value is trying to be set on a copy of a slice from a DataFrame.\n",
            "Try using .loc[row_indexer,col_indexer] = value instead\n",
            "\n",
            "See the caveats in the documentation: http://pandas.pydata.org/pandas-docs/stable/user_guide/indexing.html#returning-a-view-versus-a-copy\n",
            "  app.launch_new_instance()\n",
            "/usr/local/lib/python3.6/dist-packages/ipykernel_launcher.py:19: SettingWithCopyWarning: \n",
            "A value is trying to be set on a copy of a slice from a DataFrame.\n",
            "Try using .loc[row_indexer,col_indexer] = value instead\n",
            "\n",
            "See the caveats in the documentation: http://pandas.pydata.org/pandas-docs/stable/user_guide/indexing.html#returning-a-view-versus-a-copy\n",
            "/usr/local/lib/python3.6/dist-packages/ipykernel_launcher.py:20: SettingWithCopyWarning: \n",
            "A value is trying to be set on a copy of a slice from a DataFrame.\n",
            "Try using .loc[row_indexer,col_indexer] = value instead\n",
            "\n",
            "See the caveats in the documentation: http://pandas.pydata.org/pandas-docs/stable/user_guide/indexing.html#returning-a-view-versus-a-copy\n",
            "/usr/local/lib/python3.6/dist-packages/ipykernel_launcher.py:23: SettingWithCopyWarning: \n",
            "A value is trying to be set on a copy of a slice from a DataFrame.\n",
            "Try using .loc[row_indexer,col_indexer] = value instead\n",
            "\n",
            "See the caveats in the documentation: http://pandas.pydata.org/pandas-docs/stable/user_guide/indexing.html#returning-a-view-versus-a-copy\n",
            "/usr/local/lib/python3.6/dist-packages/ipykernel_launcher.py:24: SettingWithCopyWarning: \n",
            "A value is trying to be set on a copy of a slice from a DataFrame.\n",
            "Try using .loc[row_indexer,col_indexer] = value instead\n",
            "\n",
            "See the caveats in the documentation: http://pandas.pydata.org/pandas-docs/stable/user_guide/indexing.html#returning-a-view-versus-a-copy\n",
            "/usr/local/lib/python3.6/dist-packages/ipykernel_launcher.py:27: SettingWithCopyWarning: \n",
            "A value is trying to be set on a copy of a slice from a DataFrame.\n",
            "Try using .loc[row_indexer,col_indexer] = value instead\n",
            "\n",
            "See the caveats in the documentation: http://pandas.pydata.org/pandas-docs/stable/user_guide/indexing.html#returning-a-view-versus-a-copy\n",
            "/usr/local/lib/python3.6/dist-packages/ipykernel_launcher.py:28: SettingWithCopyWarning: \n",
            "A value is trying to be set on a copy of a slice from a DataFrame.\n",
            "Try using .loc[row_indexer,col_indexer] = value instead\n",
            "\n",
            "See the caveats in the documentation: http://pandas.pydata.org/pandas-docs/stable/user_guide/indexing.html#returning-a-view-versus-a-copy\n"
          ],
          "name": "stderr"
        }
      ]
    },
    {
      "cell_type": "code",
      "metadata": {
        "id": "3cvLf2Ot-WCl",
        "colab_type": "code",
        "colab": {}
      },
      "source": [
        "plt.scatter(africa['x'],africa['1990'])\n",
        "plt.scatter(asia['x'],asia['1990'])\n",
        "plt.scatter(North_America['x'],North_America['1990'])\n",
        "plt.scatter(Australia['x'],Australia['1990'])\n",
        "plt.scatter(South_America['x'],South_America['1990'])\n",
        "plt.scatter(europe['x'],europe['1990'])\n",
        "plt.scatter(Not_found['x'],Not_found['1990'])"
      ],
      "execution_count": 0,
      "outputs": []
    },
    {
      "cell_type": "code",
      "metadata": {
        "id": "uCCGQqpIL2VW",
        "colab_type": "code",
        "outputId": "851e5518-50bd-428c-fae5-ccfe15c52dc6",
        "colab": {
          "base_uri": "https://localhost:8080/",
          "height": 283
        }
      },
      "source": [
        "plt.scatter(africa['y'],africa['2010'])\n",
        "plt.scatter(asia['y'],asia['2010'])\n",
        "plt.scatter(North_America['y'],North_America['2010'])\n",
        "plt.scatter(Australia['y'],Australia['2010'])\n",
        "plt.scatter(South_America['y'],South_America['2010'])\n",
        "plt.scatter(europe['y'],europe['2010'])\n",
        "plt.scatter(Not_found['y'],Not_found['2010'])"
      ],
      "execution_count": 0,
      "outputs": [
        {
          "output_type": "execute_result",
          "data": {
            "text/plain": [
              "<matplotlib.collections.PathCollection at 0x7f91643006a0>"
            ]
          },
          "metadata": {
            "tags": []
          },
          "execution_count": 116
        },
        {
          "output_type": "display_data",
          "data": {
            "image/png": "[encoded data removed]",
            "text/plain": [
              "<Figure size 432x288 with 1 Axes>"
            ]
          },
          "metadata": {
            "tags": []
          }
        }
      ]
    }
  ]
}